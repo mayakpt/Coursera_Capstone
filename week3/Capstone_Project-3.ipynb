{
 "cells": [
  {
   "cell_type": "markdown",
   "metadata": {},
   "source": [
    "This notebook will be used for the Coursera Capstone project."
   ]
  },
  {
   "cell_type": "code",
   "execution_count": 1,
   "metadata": {},
   "outputs": [
    {
     "name": "stdout",
     "output_type": "stream",
     "text": [
      "Hello Capstone Project Course!\n"
     ]
    }
   ],
   "source": [
    "#import libraries\n",
    "import pandas as pd # primary data structure library\n",
    "import numpy as np # useful for many scientific computing in Python\n",
    "print (\"Hello Capstone Project Course!\")"
   ]
  },
  {
   "cell_type": "markdown",
   "metadata": {},
   "source": [
    "## 1. Introduction/Business Problem"
   ]
  },
  {
   "cell_type": "markdown",
   "metadata": {},
   "source": [
    "In today's world many people can't imagine their lives without a car. Cars have become an integral part of modern humans, making it easier not only to perform everyday activities but also to travel long distance. Nonetheless, road vehicles are also the most unsafe of all available to humans. Traffic collisions are in first place in terms of the number of deaths and injuries. According to these parameters, cars significantly overtake railway, aviation and water transport.\n",
    "\n",
    "Unfortunately, car accidents occur for many reasons, including both technological and human factors. An accident can happen due to the fault of a tired driver, due to icing of the road surface or a malfunction of the brake system. However, the risk of getting into an accident is often influenced by external factors, such as the day of the week, weather conditions and the quality of the road itself.\n",
    "\n",
    "Many car companies are working on fully autonomous cars, which could potentially reduce the amount of car accidents. Until then regular cars will remain popular. Therefore, it would be great to have a mechanism that could warn you, given the weather and the road conditions, about the possibility of you getting into a car accident and how severe it would be, so that you would drive more carefully or even change your travel if you are able to. \n",
    "\n"
   ]
  },
  {
   "cell_type": "markdown",
   "metadata": {},
   "source": [
    "Thus, the goal of this project is:\n",
    "#### 1.\tto identify and analyze the factors that cause traffic collisions, and\n",
    "#### 2.\tto create a model that will predict the severity of car accidents.\n",
    "\n",
    "The findings may be useful for improving road safety or for insurance companies planning to introduce life and health insurance programs for drivers and passengers. \n",
    "\n"
   ]
  },
  {
   "cell_type": "markdown",
   "metadata": {},
   "source": [
    "## 2. Data"
   ]
  },
  {
   "cell_type": "markdown",
   "metadata": {},
   "source": [
    "For this project I will be using a shared dataframe about accident severity. The dataset includes all types of collisions in Seattle for the timeframe from 2004 to mid-2020. The dataset has an extensive amount of observations - it includes 194,673 samples. The total amount of attributes in the dataframe is 37. "
   ]
  },
  {
   "cell_type": "code",
   "execution_count": 2,
   "metadata": {},
   "outputs": [
    {
     "name": "stdout",
     "output_type": "stream",
     "text": [
      "--2020-10-06 21:14:21--  https://s3.us.cloud-object-storage.appdomain.cloud/cf-courses-data/CognitiveClass/DP0701EN/version-2/Data-Collisions.csv\n",
      "Resolving s3.us.cloud-object-storage.appdomain.cloud (s3.us.cloud-object-storage.appdomain.cloud)... 67.228.254.196\n",
      "Connecting to s3.us.cloud-object-storage.appdomain.cloud (s3.us.cloud-object-storage.appdomain.cloud)|67.228.254.196|:443... connected.\n",
      "HTTP request sent, awaiting response... 200 OK\n",
      "Length: 73917638 (70M) [text/csv]\n",
      "Saving to: ‘DataCollisions.csv’\n",
      "\n",
      "DataCollisions.csv  100%[===================>]  70.49M  22.3MB/s    in 3.2s    \n",
      "\n",
      "2020-10-06 21:14:25 (22.3 MB/s) - ‘DataCollisions.csv’ saved [73917638/73917638]\n",
      "\n"
     ]
    }
   ],
   "source": [
    "#download data\n",
    "!wget -O DataCollisions.csv https://s3.us.cloud-object-storage.appdomain.cloud/cf-courses-data/CognitiveClass/DP0701EN/version-2/Data-Collisions.csv"
   ]
  },
  {
   "cell_type": "code",
   "execution_count": 3,
   "metadata": {},
   "outputs": [
    {
     "name": "stderr",
     "output_type": "stream",
     "text": [
      "/home/jupyterlab/conda/envs/python/lib/python3.6/site-packages/IPython/core/interactiveshell.py:3072: DtypeWarning: Columns (33) have mixed types.Specify dtype option on import or set low_memory=False.\n",
      "  interactivity=interactivity, compiler=compiler, result=result)\n"
     ]
    },
    {
     "data": {
      "text/html": [
       "<div>\n",
       "<style scoped>\n",
       "    .dataframe tbody tr th:only-of-type {\n",
       "        vertical-align: middle;\n",
       "    }\n",
       "\n",
       "    .dataframe tbody tr th {\n",
       "        vertical-align: top;\n",
       "    }\n",
       "\n",
       "    .dataframe thead th {\n",
       "        text-align: right;\n",
       "    }\n",
       "</style>\n",
       "<table border=\"1\" class=\"dataframe\">\n",
       "  <thead>\n",
       "    <tr style=\"text-align: right;\">\n",
       "      <th></th>\n",
       "      <th>SEVERITYCODE</th>\n",
       "      <th>X</th>\n",
       "      <th>Y</th>\n",
       "      <th>OBJECTID</th>\n",
       "      <th>INCKEY</th>\n",
       "      <th>COLDETKEY</th>\n",
       "      <th>REPORTNO</th>\n",
       "      <th>STATUS</th>\n",
       "      <th>ADDRTYPE</th>\n",
       "      <th>INTKEY</th>\n",
       "      <th>...</th>\n",
       "      <th>ROADCOND</th>\n",
       "      <th>LIGHTCOND</th>\n",
       "      <th>PEDROWNOTGRNT</th>\n",
       "      <th>SDOTCOLNUM</th>\n",
       "      <th>SPEEDING</th>\n",
       "      <th>ST_COLCODE</th>\n",
       "      <th>ST_COLDESC</th>\n",
       "      <th>SEGLANEKEY</th>\n",
       "      <th>CROSSWALKKEY</th>\n",
       "      <th>HITPARKEDCAR</th>\n",
       "    </tr>\n",
       "  </thead>\n",
       "  <tbody>\n",
       "    <tr>\n",
       "      <th>0</th>\n",
       "      <td>2</td>\n",
       "      <td>-122.323148</td>\n",
       "      <td>47.703140</td>\n",
       "      <td>1</td>\n",
       "      <td>1307</td>\n",
       "      <td>1307</td>\n",
       "      <td>3502005</td>\n",
       "      <td>Matched</td>\n",
       "      <td>Intersection</td>\n",
       "      <td>37475.0</td>\n",
       "      <td>...</td>\n",
       "      <td>Wet</td>\n",
       "      <td>Daylight</td>\n",
       "      <td>NaN</td>\n",
       "      <td>NaN</td>\n",
       "      <td>NaN</td>\n",
       "      <td>10</td>\n",
       "      <td>Entering at angle</td>\n",
       "      <td>0</td>\n",
       "      <td>0</td>\n",
       "      <td>N</td>\n",
       "    </tr>\n",
       "    <tr>\n",
       "      <th>1</th>\n",
       "      <td>1</td>\n",
       "      <td>-122.347294</td>\n",
       "      <td>47.647172</td>\n",
       "      <td>2</td>\n",
       "      <td>52200</td>\n",
       "      <td>52200</td>\n",
       "      <td>2607959</td>\n",
       "      <td>Matched</td>\n",
       "      <td>Block</td>\n",
       "      <td>NaN</td>\n",
       "      <td>...</td>\n",
       "      <td>Wet</td>\n",
       "      <td>Dark - Street Lights On</td>\n",
       "      <td>NaN</td>\n",
       "      <td>6354039.0</td>\n",
       "      <td>NaN</td>\n",
       "      <td>11</td>\n",
       "      <td>From same direction - both going straight - bo...</td>\n",
       "      <td>0</td>\n",
       "      <td>0</td>\n",
       "      <td>N</td>\n",
       "    </tr>\n",
       "    <tr>\n",
       "      <th>2</th>\n",
       "      <td>1</td>\n",
       "      <td>-122.334540</td>\n",
       "      <td>47.607871</td>\n",
       "      <td>3</td>\n",
       "      <td>26700</td>\n",
       "      <td>26700</td>\n",
       "      <td>1482393</td>\n",
       "      <td>Matched</td>\n",
       "      <td>Block</td>\n",
       "      <td>NaN</td>\n",
       "      <td>...</td>\n",
       "      <td>Dry</td>\n",
       "      <td>Daylight</td>\n",
       "      <td>NaN</td>\n",
       "      <td>4323031.0</td>\n",
       "      <td>NaN</td>\n",
       "      <td>32</td>\n",
       "      <td>One parked--one moving</td>\n",
       "      <td>0</td>\n",
       "      <td>0</td>\n",
       "      <td>N</td>\n",
       "    </tr>\n",
       "    <tr>\n",
       "      <th>3</th>\n",
       "      <td>1</td>\n",
       "      <td>-122.334803</td>\n",
       "      <td>47.604803</td>\n",
       "      <td>4</td>\n",
       "      <td>1144</td>\n",
       "      <td>1144</td>\n",
       "      <td>3503937</td>\n",
       "      <td>Matched</td>\n",
       "      <td>Block</td>\n",
       "      <td>NaN</td>\n",
       "      <td>...</td>\n",
       "      <td>Dry</td>\n",
       "      <td>Daylight</td>\n",
       "      <td>NaN</td>\n",
       "      <td>NaN</td>\n",
       "      <td>NaN</td>\n",
       "      <td>23</td>\n",
       "      <td>From same direction - all others</td>\n",
       "      <td>0</td>\n",
       "      <td>0</td>\n",
       "      <td>N</td>\n",
       "    </tr>\n",
       "    <tr>\n",
       "      <th>4</th>\n",
       "      <td>2</td>\n",
       "      <td>-122.306426</td>\n",
       "      <td>47.545739</td>\n",
       "      <td>5</td>\n",
       "      <td>17700</td>\n",
       "      <td>17700</td>\n",
       "      <td>1807429</td>\n",
       "      <td>Matched</td>\n",
       "      <td>Intersection</td>\n",
       "      <td>34387.0</td>\n",
       "      <td>...</td>\n",
       "      <td>Wet</td>\n",
       "      <td>Daylight</td>\n",
       "      <td>NaN</td>\n",
       "      <td>4028032.0</td>\n",
       "      <td>NaN</td>\n",
       "      <td>10</td>\n",
       "      <td>Entering at angle</td>\n",
       "      <td>0</td>\n",
       "      <td>0</td>\n",
       "      <td>N</td>\n",
       "    </tr>\n",
       "  </tbody>\n",
       "</table>\n",
       "<p>5 rows × 38 columns</p>\n",
       "</div>"
      ],
      "text/plain": [
       "   SEVERITYCODE           X          Y  OBJECTID  INCKEY  COLDETKEY REPORTNO  \\\n",
       "0             2 -122.323148  47.703140         1    1307       1307  3502005   \n",
       "1             1 -122.347294  47.647172         2   52200      52200  2607959   \n",
       "2             1 -122.334540  47.607871         3   26700      26700  1482393   \n",
       "3             1 -122.334803  47.604803         4    1144       1144  3503937   \n",
       "4             2 -122.306426  47.545739         5   17700      17700  1807429   \n",
       "\n",
       "    STATUS      ADDRTYPE   INTKEY  ... ROADCOND                LIGHTCOND  \\\n",
       "0  Matched  Intersection  37475.0  ...      Wet                 Daylight   \n",
       "1  Matched         Block      NaN  ...      Wet  Dark - Street Lights On   \n",
       "2  Matched         Block      NaN  ...      Dry                 Daylight   \n",
       "3  Matched         Block      NaN  ...      Dry                 Daylight   \n",
       "4  Matched  Intersection  34387.0  ...      Wet                 Daylight   \n",
       "\n",
       "  PEDROWNOTGRNT  SDOTCOLNUM SPEEDING ST_COLCODE  \\\n",
       "0           NaN         NaN      NaN         10   \n",
       "1           NaN   6354039.0      NaN         11   \n",
       "2           NaN   4323031.0      NaN         32   \n",
       "3           NaN         NaN      NaN         23   \n",
       "4           NaN   4028032.0      NaN         10   \n",
       "\n",
       "                                          ST_COLDESC  SEGLANEKEY  \\\n",
       "0                                  Entering at angle           0   \n",
       "1  From same direction - both going straight - bo...           0   \n",
       "2                             One parked--one moving           0   \n",
       "3                   From same direction - all others           0   \n",
       "4                                  Entering at angle           0   \n",
       "\n",
       "   CROSSWALKKEY  HITPARKEDCAR  \n",
       "0             0             N  \n",
       "1             0             N  \n",
       "2             0             N  \n",
       "3             0             N  \n",
       "4             0             N  \n",
       "\n",
       "[5 rows x 38 columns]"
      ]
     },
     "execution_count": 3,
     "metadata": {},
     "output_type": "execute_result"
    }
   ],
   "source": [
    "#read the online file by the URL provided above, and assign it to variable \"df\"\n",
    "df = pd.read_csv('DataCollisions.csv') \n",
    "\n",
    "#check the top n rows of the dataframe\n",
    "df.head() "
   ]
  },
  {
   "cell_type": "code",
   "execution_count": 4,
   "metadata": {},
   "outputs": [
    {
     "data": {
      "text/plain": [
       "(194673, 38)"
      ]
     },
     "execution_count": 4,
     "metadata": {},
     "output_type": "execute_result"
    }
   ],
   "source": [
    "#check size of dataframe (rows, columns)\n",
    "df.shape"
   ]
  },
  {
   "cell_type": "code",
   "execution_count": 5,
   "metadata": {},
   "outputs": [
    {
     "data": {
      "text/plain": [
       "Index(['SEVERITYCODE', 'X', 'Y', 'OBJECTID', 'INCKEY', 'COLDETKEY', 'REPORTNO',\n",
       "       'STATUS', 'ADDRTYPE', 'INTKEY', 'LOCATION', 'EXCEPTRSNCODE',\n",
       "       'EXCEPTRSNDESC', 'SEVERITYCODE.1', 'SEVERITYDESC', 'COLLISIONTYPE',\n",
       "       'PERSONCOUNT', 'PEDCOUNT', 'PEDCYLCOUNT', 'VEHCOUNT', 'INCDATE',\n",
       "       'INCDTTM', 'JUNCTIONTYPE', 'SDOT_COLCODE', 'SDOT_COLDESC',\n",
       "       'INATTENTIONIND', 'UNDERINFL', 'WEATHER', 'ROADCOND', 'LIGHTCOND',\n",
       "       'PEDROWNOTGRNT', 'SDOTCOLNUM', 'SPEEDING', 'ST_COLCODE', 'ST_COLDESC',\n",
       "       'SEGLANEKEY', 'CROSSWALKKEY', 'HITPARKEDCAR'],\n",
       "      dtype='object')"
      ]
     },
     "execution_count": 5,
     "metadata": {},
     "output_type": "execute_result"
    }
   ],
   "source": [
    "#check the name of columns(headers) \n",
    "df.columns "
   ]
  },
  {
   "cell_type": "code",
   "execution_count": 6,
   "metadata": {},
   "outputs": [
    {
     "data": {
      "text/plain": [
       "SEVERITYCODE           0\n",
       "X                   5334\n",
       "Y                   5334\n",
       "OBJECTID               0\n",
       "INCKEY                 0\n",
       "COLDETKEY              0\n",
       "REPORTNO               0\n",
       "STATUS                 0\n",
       "ADDRTYPE            1926\n",
       "INTKEY            129603\n",
       "LOCATION            2677\n",
       "EXCEPTRSNCODE     109862\n",
       "EXCEPTRSNDESC     189035\n",
       "SEVERITYCODE.1         0\n",
       "SEVERITYDESC           0\n",
       "COLLISIONTYPE       4904\n",
       "PERSONCOUNT            0\n",
       "PEDCOUNT               0\n",
       "PEDCYLCOUNT            0\n",
       "VEHCOUNT               0\n",
       "INCDATE                0\n",
       "INCDTTM                0\n",
       "JUNCTIONTYPE        6329\n",
       "SDOT_COLCODE           0\n",
       "SDOT_COLDESC           0\n",
       "INATTENTIONIND    164868\n",
       "UNDERINFL           4884\n",
       "WEATHER             5081\n",
       "ROADCOND            5012\n",
       "LIGHTCOND           5170\n",
       "PEDROWNOTGRNT     190006\n",
       "SDOTCOLNUM         79737\n",
       "SPEEDING          185340\n",
       "ST_COLCODE            18\n",
       "ST_COLDESC          4904\n",
       "SEGLANEKEY             0\n",
       "CROSSWALKKEY           0\n",
       "HITPARKEDCAR           0\n",
       "dtype: int64"
      ]
     },
     "execution_count": 6,
     "metadata": {},
     "output_type": "execute_result"
    }
   ],
   "source": [
    "#check the number of missing values in each column\n",
    "df.isnull().sum()"
   ]
  },
  {
   "cell_type": "markdown",
   "metadata": {},
   "source": [
    "## 3. Methodology"
   ]
  },
  {
   "cell_type": "markdown",
   "metadata": {},
   "source": [
    "As mentioned above, not all attributes will be useful for this project. Thus, I will drop the columns that have no particular use for this project such as specialized codes and keys, GPS coordinates, etc. \n",
    "\n",
    "Further data analysis will be structured as follows:\n",
    "\n",
    "Firstly, I will visually illustrate the main characteristics of the dataset using the following attributes:\n",
    "\n",
    "* 'SEVERITYDESC' - A detailed description of the severity of the collision;\n",
    "* 'ADDRTYPE' - Collision address type (Alley, Block, Intersection);\n",
    "* 'PERSONCOUNT' - The number of pedestrians involved in the collision;\n",
    "* 'VEHCOUNT' - The number of vehicles involved in the collision;\n",
    "* 'INCDATE' - The date of the incident;\n",
    "* 'WEATHER' - A description of the weather conditions during the time of the collision;\n",
    "* 'ROADCOND' - The condition of the road during the collision;\n",
    "* 'LIGHTCOND' - The light conditions during the collision;\n",
    "\n",
    "Secondly, I will create a model that will predict the severity of car accidents. In this project,  'SEVERITYCODE' is the target variable, which is used to measure the severity of an accident from 0 to 4 within the dataset. In order to classify the target variable I will use 3 independent variables:\n",
    "\n",
    "* 'WEATHER' - A description of the weather conditions during the time of the collision;\n",
    "* 'ROADCOND' - The condition of the road during the collision;\n",
    "* 'LIGHTCOND' - The light conditions during the collision.\n",
    "\n",
    "**Note**: initially the attribute “SPEEDING” was also included in the selection. However, it has more than 185,000 missing values, which can create a biased model. Therefore, this attribute was eventually dropped.\n",
    "\n",
    "In this project I will use 3 algorithms, Logistic Regression, K-Nearest Neighbors and Decision Tree in order to verify accuracy of the model."
   ]
  },
  {
   "cell_type": "markdown",
   "metadata": {},
   "source": [
    "## 4. Data Analysis"
   ]
  },
  {
   "cell_type": "markdown",
   "metadata": {},
   "source": [
    "### 4.1 Data Pre-processing"
   ]
  },
  {
   "cell_type": "code",
   "execution_count": 7,
   "metadata": {},
   "outputs": [
    {
     "data": {
      "text/html": [
       "<div>\n",
       "<style scoped>\n",
       "    .dataframe tbody tr th:only-of-type {\n",
       "        vertical-align: middle;\n",
       "    }\n",
       "\n",
       "    .dataframe tbody tr th {\n",
       "        vertical-align: top;\n",
       "    }\n",
       "\n",
       "    .dataframe thead th {\n",
       "        text-align: right;\n",
       "    }\n",
       "</style>\n",
       "<table border=\"1\" class=\"dataframe\">\n",
       "  <thead>\n",
       "    <tr style=\"text-align: right;\">\n",
       "      <th></th>\n",
       "      <th>SEVERITYCODE</th>\n",
       "      <th>ADDRTYPE</th>\n",
       "      <th>SEVERITYDESC</th>\n",
       "      <th>PERSONCOUNT</th>\n",
       "      <th>VEHCOUNT</th>\n",
       "      <th>INCDATE</th>\n",
       "      <th>WEATHER</th>\n",
       "      <th>ROADCOND</th>\n",
       "      <th>LIGHTCOND</th>\n",
       "    </tr>\n",
       "  </thead>\n",
       "  <tbody>\n",
       "    <tr>\n",
       "      <th>0</th>\n",
       "      <td>2</td>\n",
       "      <td>Intersection</td>\n",
       "      <td>Injury Collision</td>\n",
       "      <td>2</td>\n",
       "      <td>2</td>\n",
       "      <td>2013/03/27 00:00:00+00</td>\n",
       "      <td>Overcast</td>\n",
       "      <td>Wet</td>\n",
       "      <td>Daylight</td>\n",
       "    </tr>\n",
       "    <tr>\n",
       "      <th>1</th>\n",
       "      <td>1</td>\n",
       "      <td>Block</td>\n",
       "      <td>Property Damage Only Collision</td>\n",
       "      <td>2</td>\n",
       "      <td>2</td>\n",
       "      <td>2006/12/20 00:00:00+00</td>\n",
       "      <td>Raining</td>\n",
       "      <td>Wet</td>\n",
       "      <td>Dark - Street Lights On</td>\n",
       "    </tr>\n",
       "    <tr>\n",
       "      <th>2</th>\n",
       "      <td>1</td>\n",
       "      <td>Block</td>\n",
       "      <td>Property Damage Only Collision</td>\n",
       "      <td>4</td>\n",
       "      <td>3</td>\n",
       "      <td>2004/11/18 00:00:00+00</td>\n",
       "      <td>Overcast</td>\n",
       "      <td>Dry</td>\n",
       "      <td>Daylight</td>\n",
       "    </tr>\n",
       "    <tr>\n",
       "      <th>3</th>\n",
       "      <td>1</td>\n",
       "      <td>Block</td>\n",
       "      <td>Property Damage Only Collision</td>\n",
       "      <td>3</td>\n",
       "      <td>3</td>\n",
       "      <td>2013/03/29 00:00:00+00</td>\n",
       "      <td>Clear</td>\n",
       "      <td>Dry</td>\n",
       "      <td>Daylight</td>\n",
       "    </tr>\n",
       "    <tr>\n",
       "      <th>4</th>\n",
       "      <td>2</td>\n",
       "      <td>Intersection</td>\n",
       "      <td>Injury Collision</td>\n",
       "      <td>2</td>\n",
       "      <td>2</td>\n",
       "      <td>2004/01/28 00:00:00+00</td>\n",
       "      <td>Raining</td>\n",
       "      <td>Wet</td>\n",
       "      <td>Daylight</td>\n",
       "    </tr>\n",
       "  </tbody>\n",
       "</table>\n",
       "</div>"
      ],
      "text/plain": [
       "   SEVERITYCODE      ADDRTYPE                    SEVERITYDESC  PERSONCOUNT  \\\n",
       "0             2  Intersection                Injury Collision            2   \n",
       "1             1         Block  Property Damage Only Collision            2   \n",
       "2             1         Block  Property Damage Only Collision            4   \n",
       "3             1         Block  Property Damage Only Collision            3   \n",
       "4             2  Intersection                Injury Collision            2   \n",
       "\n",
       "   VEHCOUNT                 INCDATE   WEATHER ROADCOND  \\\n",
       "0         2  2013/03/27 00:00:00+00  Overcast      Wet   \n",
       "1         2  2006/12/20 00:00:00+00   Raining      Wet   \n",
       "2         3  2004/11/18 00:00:00+00  Overcast      Dry   \n",
       "3         3  2013/03/29 00:00:00+00     Clear      Dry   \n",
       "4         2  2004/01/28 00:00:00+00   Raining      Wet   \n",
       "\n",
       "                 LIGHTCOND  \n",
       "0                 Daylight  \n",
       "1  Dark - Street Lights On  \n",
       "2                 Daylight  \n",
       "3                 Daylight  \n",
       "4                 Daylight  "
      ]
     },
     "execution_count": 7,
     "metadata": {},
     "output_type": "execute_result"
    }
   ],
   "source": [
    "#drop the unnecessary columns\n",
    "\n",
    "df.drop(['X', 'Y', 'OBJECTID', 'INCKEY', 'COLDETKEY', 'REPORTNO',\n",
    "       'STATUS', 'INTKEY', 'LOCATION', 'EXCEPTRSNCODE',\n",
    "       'EXCEPTRSNDESC', 'SEVERITYCODE.1', 'COLLISIONTYPE',\n",
    "       'PEDCOUNT', 'PEDCYLCOUNT',\n",
    "       'INCDTTM', 'JUNCTIONTYPE', 'SDOT_COLCODE', 'SDOT_COLDESC',\n",
    "       'INATTENTIONIND', 'UNDERINFL',\n",
    "       'PEDROWNOTGRNT', 'SDOTCOLNUM', 'SPEEDING', 'ST_COLCODE', 'ST_COLDESC',\n",
    "       'SEGLANEKEY', 'CROSSWALKKEY', 'HITPARKEDCAR'], axis=1, inplace=True)\n",
    "df.head()"
   ]
  },
  {
   "cell_type": "code",
   "execution_count": 8,
   "metadata": {},
   "outputs": [],
   "source": [
    "#make headings in lowercase\n",
    "\n",
    "df.columns=df.columns.str.lower()"
   ]
  },
  {
   "cell_type": "code",
   "execution_count": 9,
   "metadata": {},
   "outputs": [],
   "source": [
    "#make values in lowercase\n",
    "\n",
    "df[\"addrtype\"]=df[\"addrtype\"].str.lower()\n",
    "df[\"severitydesc\"]=df[\"severitydesc\"].str.lower()\n",
    "df[\"weather\"]=df[\"weather\"].str.lower()\n",
    "df[\"roadcond\"]=df[\"roadcond\"].str.lower()\n",
    "df[\"lightcond\"]=df[\"lightcond\"].str.lower()"
   ]
  },
  {
   "cell_type": "code",
   "execution_count": 10,
   "metadata": {},
   "outputs": [],
   "source": [
    "#re-arrange the columns\n",
    "\n",
    "df=df[['severitycode','severitydesc', 'addrtype','personcount', 'vehcount','weather', 'roadcond', 'lightcond','incdate']]"
   ]
  },
  {
   "cell_type": "code",
   "execution_count": 11,
   "metadata": {},
   "outputs": [
    {
     "data": {
      "text/plain": [
       "severitycode       0\n",
       "severitydesc       0\n",
       "addrtype        1926\n",
       "personcount        0\n",
       "vehcount           0\n",
       "weather         5081\n",
       "roadcond        5012\n",
       "lightcond       5170\n",
       "incdate            0\n",
       "dtype: int64"
      ]
     },
     "execution_count": 11,
     "metadata": {},
     "output_type": "execute_result"
    }
   ],
   "source": [
    "#check the number of missing values in each column\n",
    "df.isnull().sum()"
   ]
  },
  {
   "cell_type": "code",
   "execution_count": 12,
   "metadata": {},
   "outputs": [],
   "source": [
    "#drop all rows with missing values\n",
    "df.dropna(subset=['addrtype', 'weather', 'roadcond', 'lightcond',], axis=0, inplace=True)\n",
    "\n",
    "#reset index, because we droped the rows\n",
    "df.reset_index(drop=True, inplace=True)"
   ]
  },
  {
   "cell_type": "code",
   "execution_count": 13,
   "metadata": {},
   "outputs": [
    {
     "name": "stdout",
     "output_type": "stream",
     "text": [
      "<class 'pandas.core.frame.DataFrame'>\n",
      "RangeIndex: 187525 entries, 0 to 187524\n",
      "Data columns (total 9 columns):\n",
      " #   Column        Non-Null Count   Dtype \n",
      "---  ------        --------------   ----- \n",
      " 0   severitycode  187525 non-null  int64 \n",
      " 1   severitydesc  187525 non-null  object\n",
      " 2   addrtype      187525 non-null  object\n",
      " 3   personcount   187525 non-null  int64 \n",
      " 4   vehcount      187525 non-null  int64 \n",
      " 5   weather       187525 non-null  object\n",
      " 6   roadcond      187525 non-null  object\n",
      " 7   lightcond     187525 non-null  object\n",
      " 8   incdate       187525 non-null  object\n",
      "dtypes: int64(3), object(6)\n",
      "memory usage: 12.9+ MB\n"
     ]
    }
   ],
   "source": [
    "#summary of a dataframe\n",
    "df.info()"
   ]
  },
  {
   "cell_type": "markdown",
   "metadata": {},
   "source": [
    "Now, we have finally obtained the cleaned dataset with no missing values and all data in its proper format. \n",
    "\n",
    "The final size of the dataframe includes 187524 entries and 9 attributes."
   ]
  },
  {
   "cell_type": "code",
   "execution_count": 14,
   "metadata": {},
   "outputs": [
    {
     "data": {
      "text/html": [
       "<div>\n",
       "<style scoped>\n",
       "    .dataframe tbody tr th:only-of-type {\n",
       "        vertical-align: middle;\n",
       "    }\n",
       "\n",
       "    .dataframe tbody tr th {\n",
       "        vertical-align: top;\n",
       "    }\n",
       "\n",
       "    .dataframe thead th {\n",
       "        text-align: right;\n",
       "    }\n",
       "</style>\n",
       "<table border=\"1\" class=\"dataframe\">\n",
       "  <thead>\n",
       "    <tr style=\"text-align: right;\">\n",
       "      <th></th>\n",
       "      <th>severitycode</th>\n",
       "      <th>severitydesc</th>\n",
       "      <th>addrtype</th>\n",
       "      <th>personcount</th>\n",
       "      <th>vehcount</th>\n",
       "      <th>weather</th>\n",
       "      <th>roadcond</th>\n",
       "      <th>lightcond</th>\n",
       "      <th>incdate</th>\n",
       "    </tr>\n",
       "  </thead>\n",
       "  <tbody>\n",
       "    <tr>\n",
       "      <th>0</th>\n",
       "      <td>2</td>\n",
       "      <td>injury collision</td>\n",
       "      <td>intersection</td>\n",
       "      <td>2</td>\n",
       "      <td>2</td>\n",
       "      <td>overcast</td>\n",
       "      <td>wet</td>\n",
       "      <td>daylight</td>\n",
       "      <td>2013/03/27 00:00:00+00</td>\n",
       "    </tr>\n",
       "    <tr>\n",
       "      <th>1</th>\n",
       "      <td>1</td>\n",
       "      <td>property damage only collision</td>\n",
       "      <td>block</td>\n",
       "      <td>2</td>\n",
       "      <td>2</td>\n",
       "      <td>raining</td>\n",
       "      <td>wet</td>\n",
       "      <td>dark - street lights on</td>\n",
       "      <td>2006/12/20 00:00:00+00</td>\n",
       "    </tr>\n",
       "    <tr>\n",
       "      <th>2</th>\n",
       "      <td>1</td>\n",
       "      <td>property damage only collision</td>\n",
       "      <td>block</td>\n",
       "      <td>4</td>\n",
       "      <td>3</td>\n",
       "      <td>overcast</td>\n",
       "      <td>dry</td>\n",
       "      <td>daylight</td>\n",
       "      <td>2004/11/18 00:00:00+00</td>\n",
       "    </tr>\n",
       "    <tr>\n",
       "      <th>3</th>\n",
       "      <td>1</td>\n",
       "      <td>property damage only collision</td>\n",
       "      <td>block</td>\n",
       "      <td>3</td>\n",
       "      <td>3</td>\n",
       "      <td>clear</td>\n",
       "      <td>dry</td>\n",
       "      <td>daylight</td>\n",
       "      <td>2013/03/29 00:00:00+00</td>\n",
       "    </tr>\n",
       "    <tr>\n",
       "      <th>4</th>\n",
       "      <td>2</td>\n",
       "      <td>injury collision</td>\n",
       "      <td>intersection</td>\n",
       "      <td>2</td>\n",
       "      <td>2</td>\n",
       "      <td>raining</td>\n",
       "      <td>wet</td>\n",
       "      <td>daylight</td>\n",
       "      <td>2004/01/28 00:00:00+00</td>\n",
       "    </tr>\n",
       "  </tbody>\n",
       "</table>\n",
       "</div>"
      ],
      "text/plain": [
       "   severitycode                    severitydesc      addrtype  personcount  \\\n",
       "0             2                injury collision  intersection            2   \n",
       "1             1  property damage only collision         block            2   \n",
       "2             1  property damage only collision         block            4   \n",
       "3             1  property damage only collision         block            3   \n",
       "4             2                injury collision  intersection            2   \n",
       "\n",
       "   vehcount   weather roadcond                lightcond  \\\n",
       "0         2  overcast      wet                 daylight   \n",
       "1         2   raining      wet  dark - street lights on   \n",
       "2         3  overcast      dry                 daylight   \n",
       "3         3     clear      dry                 daylight   \n",
       "4         2   raining      wet                 daylight   \n",
       "\n",
       "                  incdate  \n",
       "0  2013/03/27 00:00:00+00  \n",
       "1  2006/12/20 00:00:00+00  \n",
       "2  2004/11/18 00:00:00+00  \n",
       "3  2013/03/29 00:00:00+00  \n",
       "4  2004/01/28 00:00:00+00  "
      ]
     },
     "execution_count": 14,
     "metadata": {},
     "output_type": "execute_result"
    }
   ],
   "source": [
    "df.head()"
   ]
  },
  {
   "cell_type": "markdown",
   "metadata": {},
   "source": [
    "###  4.2 Data Analysis and Visualization"
   ]
  },
  {
   "cell_type": "code",
   "execution_count": 15,
   "metadata": {},
   "outputs": [],
   "source": [
    "# use the inline backend to generate the plots within the browser\n",
    "%matplotlib inline \n",
    "\n",
    "import matplotlib as mpl\n",
    "import matplotlib.pyplot as plt\n",
    "import seaborn as sns\n",
    "\n",
    "mpl.style.use('ggplot') # optional: for ggplot-like style"
   ]
  },
  {
   "cell_type": "markdown",
   "metadata": {},
   "source": [
    "### Severity types"
   ]
  },
  {
   "cell_type": "code",
   "execution_count": 16,
   "metadata": {},
   "outputs": [
    {
     "data": {
      "text/plain": [
       "property damage only collision    130642\n",
       "injury collision                   56883\n",
       "Name: severitydesc, dtype: int64"
      ]
     },
     "execution_count": 16,
     "metadata": {},
     "output_type": "execute_result"
    }
   ],
   "source": [
    "# total values of severity types\n",
    "df['severitydesc'].value_counts()"
   ]
  },
  {
   "cell_type": "code",
   "execution_count": 17,
   "metadata": {},
   "outputs": [
    {
     "data": {
      "text/plain": [
       "<function matplotlib.pyplot.show(close=None, block=None)>"
      ]
     },
     "execution_count": 17,
     "metadata": {},
     "output_type": "execute_result"
    },
    {
     "data": {
      "image/png": "[encoded data removed]",
      "text/plain": [
       "<Figure size 1080x432 with 1 Axes>"
      ]
     },
     "metadata": {},
     "output_type": "display_data"
    }
   ],
   "source": [
    "#plot severity distribution\n",
    "\n",
    "df['severitydesc'].value_counts().plot(kind='pie',\n",
    "                            figsize=(15, 6),\n",
    "                            autopct='%1.1f%%', \n",
    "                            startangle=90,                    \n",
    "                            pctdistance=1.3,\n",
    "                            explode=[0.1,0])\n",
    "plt.title('Distribution of accident severity', y=1.12) \n",
    "plt.ylabel(' ')\n",
    "\n",
    "plt.axis('equal') \n",
    "plt.show"
   ]
  },
  {
   "cell_type": "markdown",
   "metadata": {},
   "source": [
    "### Annual amount of traffic accidents"
   ]
  },
  {
   "cell_type": "code",
   "execution_count": 18,
   "metadata": {},
   "outputs": [
    {
     "data": {
      "image/png": "[encoded data removed]",
      "text/plain": [
       "<Figure size 1080x792 with 2 Axes>"
      ]
     },
     "metadata": {},
     "output_type": "display_data"
    }
   ],
   "source": [
    "# plot annual amount of traffic accidents in Seattle\n",
    "\n",
    "df['year'] = pd.DatetimeIndex(df['incdate']).year\n",
    "df['year'].value_counts().sort_index()\n",
    "\n",
    "fig, (ax1, ax2) = plt.subplots(nrows=2,ncols=1, figsize=(15,11 ))\n",
    "\n",
    "\n",
    "#1\n",
    "sns.countplot(x=\"year\",\n",
    "              data=df,\n",
    "              ax=ax1)\n",
    "ax1.set_title('Total number of traffic collisions in Seattle, 2004-2020')\n",
    "ax1.set_ylabel(\"Number of Accidents\")\n",
    "ax1.set_xlabel(\"\")\n",
    "\n",
    "#2\n",
    "sns.countplot(x=\"year\",\n",
    "              hue=\"severitydesc\",\n",
    "              data=df,\n",
    "              ax=ax2)\n",
    "ax2.set_title('Total number of traffic collisions in Seattle by severity, 2004-2020')\n",
    "ax2.set_ylabel(\"Number of Accidents\")\n",
    "ax2.set_xlabel(\"\")\n",
    "ax2.legend(frameon=False, loc=1)\n",
    "\n",
    "sns.set_style('whitegrid')\n",
    "sns.despine()"
   ]
  },
  {
   "cell_type": "markdown",
   "metadata": {},
   "source": [
    "### Address type of traffic accidents"
   ]
  },
  {
   "cell_type": "code",
   "execution_count": 19,
   "metadata": {},
   "outputs": [
    {
     "data": {
      "text/plain": [
       "block           123321\n",
       "intersection     63462\n",
       "alley              742\n",
       "Name: addrtype, dtype: int64"
      ]
     },
     "execution_count": 19,
     "metadata": {},
     "output_type": "execute_result"
    }
   ],
   "source": [
    "df['addrtype'].value_counts()"
   ]
  },
  {
   "cell_type": "code",
   "execution_count": 20,
   "metadata": {},
   "outputs": [
    {
     "data": {
      "image/png": "[encoded data removed]",
      "text/plain": [
       "<Figure size 720x504 with 1 Axes>"
      ]
     },
     "metadata": {},
     "output_type": "display_data"
    }
   ],
   "source": [
    "# plot traffic accidents by address type\n",
    "\n",
    "fig,  ax2 = plt.subplots(figsize=(10,7 ))\n",
    "\n",
    "\n",
    "#2\n",
    "sns.countplot(x=\"addrtype\", hue=\"severitydesc\", data=df, ax=ax2)\n",
    "ax2.set_title('Number of traffic collisions in Seattle by address type, 2004-2020')\n",
    "ax2.set_ylabel(\"Number of Accidents\")\n",
    "ax2.set_xlabel(\"\")\n",
    "ax2.legend(frameon=False, loc=1)\n",
    "\n",
    "ax2.set_axisbelow(True)\n",
    "ax2.yaxis.grid(True, color='#EEEEEE')\n",
    "ax2.xaxis.grid(False)\n",
    "\n",
    "sns.set_style('white')\n",
    "sns.despine()"
   ]
  },
  {
   "cell_type": "markdown",
   "metadata": {},
   "source": [
    "### Number of People and Vehicles involved in traffic accidents in Seattle, 2004-2020"
   ]
  },
  {
   "cell_type": "code",
   "execution_count": 21,
   "metadata": {},
   "outputs": [
    {
     "data": {
      "text/plain": [
       "2    109569\n",
       "3     34988\n",
       "4     14389\n",
       "1     11582\n",
       "5      6560\n",
       "Name: personcount, dtype: int64"
      ]
     },
     "execution_count": 21,
     "metadata": {},
     "output_type": "execute_result"
    }
   ],
   "source": [
    "df['personcount'].value_counts().head()"
   ]
  },
  {
   "cell_type": "code",
   "execution_count": 22,
   "metadata": {},
   "outputs": [
    {
     "data": {
      "image/png": "[encoded data removed]",
      "text/plain": [
       "<Figure size 1296x360 with 2 Axes>"
      ]
     },
     "metadata": {},
     "output_type": "display_data"
    }
   ],
   "source": [
    "#plot number of people and vehicles involved in accidents in Seattle\n",
    "\n",
    "fig, (ax1, ax2) = plt.subplots(ncols=2, figsize=(18, 5))\n",
    "ex = [0.1, 0, 0, 0, 0]\n",
    "\n",
    "#1\n",
    "df['personcount'].value_counts().head().plot(kind='pie',\n",
    "                                             autopct='%1.1f%%',\n",
    "                                             startangle=90,\n",
    "                                             pctdistance=1.3, \n",
    "                                             explode=ex,\n",
    "                                             ax=ax1)\n",
    "\n",
    "ax1.set_title('Number of People involved in traffic accidents', y=1.1) # add a title to the histogram\n",
    "ax1.set_ylabel('') # add y-label\n",
    "ax1.set_xlabel('') # add x-label\n",
    "\n",
    "#2\n",
    "\n",
    "df['vehcount'].value_counts().head().plot(kind='pie',\n",
    "                                          autopct='%1.1f%%',\n",
    "                                          startangle=45,\n",
    "                                          pctdistance=1.4,\n",
    "                                          explode=ex,\n",
    "                                          ax=ax2)\n",
    "\n",
    "ax2.set_title('Number of Vehicles involved in traffic accidents', y=1.1) # add a title to the histogram\n",
    "ax2.set_ylabel('') # add y-label\n",
    "ax2.set_xlabel('') # add x-label\n",
    "\n",
    "fig.tight_layout()"
   ]
  },
  {
   "cell_type": "markdown",
   "metadata": {},
   "source": [
    "### Weather, Road and Light conditions and Accident Severity"
   ]
  },
  {
   "cell_type": "code",
   "execution_count": 23,
   "metadata": {},
   "outputs": [
    {
     "data": {
      "text/plain": [
       "clear                       110499\n",
       "raining                      32976\n",
       "overcast                     27551\n",
       "unknown                      14059\n",
       "snowing                        896\n",
       "other                          790\n",
       "fog/smog/smoke                 563\n",
       "sleet/hail/freezing rain       112\n",
       "blowing sand/dirt               49\n",
       "severe crosswind                25\n",
       "partly cloudy                    5\n",
       "Name: weather, dtype: int64"
      ]
     },
     "execution_count": 23,
     "metadata": {},
     "output_type": "execute_result"
    }
   ],
   "source": [
    "df[\"weather\"].value_counts()"
   ]
  },
  {
   "cell_type": "code",
   "execution_count": 24,
   "metadata": {},
   "outputs": [
    {
     "data": {
      "text/plain": [
       "dry               123736\n",
       "wet                47223\n",
       "unknown            14009\n",
       "ice                 1193\n",
       "snow/slush           992\n",
       "other                124\n",
       "standing water       111\n",
       "sand/mud/dirt         73\n",
       "oil                   64\n",
       "Name: roadcond, dtype: int64"
      ]
     },
     "execution_count": 24,
     "metadata": {},
     "output_type": "execute_result"
    }
   ],
   "source": [
    "df[\"roadcond\"].value_counts()"
   ]
  },
  {
   "cell_type": "code",
   "execution_count": 25,
   "metadata": {},
   "outputs": [
    {
     "data": {
      "text/plain": [
       "daylight                    115408\n",
       "dark - street lights on      48236\n",
       "unknown                      12599\n",
       "dusk                          5843\n",
       "dawn                          2491\n",
       "dark - no street lights       1526\n",
       "dark - street lights off      1184\n",
       "other                          227\n",
       "dark - unknown lighting         11\n",
       "Name: lightcond, dtype: int64"
      ]
     },
     "execution_count": 25,
     "metadata": {},
     "output_type": "execute_result"
    }
   ],
   "source": [
    "df[\"lightcond\"].value_counts()"
   ]
  },
  {
   "cell_type": "code",
   "execution_count": 44,
   "metadata": {},
   "outputs": [
    {
     "data": {
      "image/png": "[encoded data removed]",
      "text/plain": [
       "<Figure size 1512x576 with 3 Axes>"
      ]
     },
     "metadata": {},
     "output_type": "display_data"
    }
   ],
   "source": [
    "fig, (ax1, ax2, ax3) = plt.subplots(ncols=3, figsize=(21, 8))\n",
    "\n",
    "x=rotation=90\n",
    "#1\n",
    "sns.countplot(x=\"weather\", hue=\"severitydesc\", data=df, ax=ax1)\n",
    "ax1.set_title('Weather conditions') # add a title to the histogram\n",
    "ax1.set_ylabel('Number of Accidents') # add y-label\n",
    "ax1.set_xlabel('')\n",
    "ax1.legend(frameon=False, loc=1)\n",
    "\n",
    "#2\n",
    "sns.countplot(x=\"roadcond\", hue=\"severitydesc\", data=df, ax=ax2)\n",
    "ax2.set_title('Road conditions') # add a title to the histogram\n",
    "ax2.set_ylabel('Number of Accidents') # add y-label\n",
    "ax2.set_xlabel('')\n",
    "ax2.legend(frameon=False, loc=1)\n",
    "\n",
    "#3\n",
    "sns.countplot(x=\"lightcond\", hue=\"severitydesc\", data=df,ax=ax3)\n",
    "ax3.set_title('Light conditions') # add a title to the histogram\n",
    "ax3.set_ylabel('Number of Accidents') # add y-label\n",
    "ax3.set_xlabel('')\n",
    "ax3.legend(frameon=False, loc=1)\n",
    "\n",
    "plt.draw()\n",
    "\n",
    "ax1.set_xticklabels(ax1.get_xticklabels(), rotation=30, ha='right')\n",
    "ax2.set_xticklabels(ax2.get_xticklabels(), rotation=30, ha='right')\n",
    "ax3.set_xticklabels(ax3.get_xticklabels(), rotation=30, ha='right')\n",
    "\n",
    "fig.tight_layout()\n",
    "sns.set_style(\"whitegrid\")\n",
    "sns.despine()"
   ]
  },
  {
   "cell_type": "markdown",
   "metadata": {},
   "source": [
    "### 4.3 Model Development and Training"
   ]
  },
  {
   "cell_type": "code",
   "execution_count": 27,
   "metadata": {},
   "outputs": [
    {
     "data": {
      "text/html": [
       "<div>\n",
       "<style scoped>\n",
       "    .dataframe tbody tr th:only-of-type {\n",
       "        vertical-align: middle;\n",
       "    }\n",
       "\n",
       "    .dataframe tbody tr th {\n",
       "        vertical-align: top;\n",
       "    }\n",
       "\n",
       "    .dataframe thead th {\n",
       "        text-align: right;\n",
       "    }\n",
       "</style>\n",
       "<table border=\"1\" class=\"dataframe\">\n",
       "  <thead>\n",
       "    <tr style=\"text-align: right;\">\n",
       "      <th></th>\n",
       "      <th>severitycode</th>\n",
       "      <th>weather</th>\n",
       "      <th>roadcond</th>\n",
       "      <th>lightcond</th>\n",
       "    </tr>\n",
       "  </thead>\n",
       "  <tbody>\n",
       "    <tr>\n",
       "      <th>0</th>\n",
       "      <td>2</td>\n",
       "      <td>overcast</td>\n",
       "      <td>wet</td>\n",
       "      <td>daylight</td>\n",
       "    </tr>\n",
       "    <tr>\n",
       "      <th>1</th>\n",
       "      <td>1</td>\n",
       "      <td>raining</td>\n",
       "      <td>wet</td>\n",
       "      <td>dark - street lights on</td>\n",
       "    </tr>\n",
       "    <tr>\n",
       "      <th>2</th>\n",
       "      <td>1</td>\n",
       "      <td>overcast</td>\n",
       "      <td>dry</td>\n",
       "      <td>daylight</td>\n",
       "    </tr>\n",
       "    <tr>\n",
       "      <th>3</th>\n",
       "      <td>1</td>\n",
       "      <td>clear</td>\n",
       "      <td>dry</td>\n",
       "      <td>daylight</td>\n",
       "    </tr>\n",
       "    <tr>\n",
       "      <th>4</th>\n",
       "      <td>2</td>\n",
       "      <td>raining</td>\n",
       "      <td>wet</td>\n",
       "      <td>daylight</td>\n",
       "    </tr>\n",
       "  </tbody>\n",
       "</table>\n",
       "</div>"
      ],
      "text/plain": [
       "   severitycode   weather roadcond                lightcond\n",
       "0             2  overcast      wet                 daylight\n",
       "1             1   raining      wet  dark - street lights on\n",
       "2             1  overcast      dry                 daylight\n",
       "3             1     clear      dry                 daylight\n",
       "4             2   raining      wet                 daylight"
      ]
     },
     "execution_count": 27,
     "metadata": {},
     "output_type": "execute_result"
    }
   ],
   "source": [
    "#create new dataframe with dependent and independent variables\n",
    "\n",
    "model=df[['severitycode','weather', 'roadcond', 'lightcond']]\n",
    "model.head()"
   ]
  },
  {
   "cell_type": "code",
   "execution_count": 28,
   "metadata": {},
   "outputs": [
    {
     "name": "stderr",
     "output_type": "stream",
     "text": [
      "/home/jupyterlab/conda/envs/python/lib/python3.6/site-packages/ipykernel_launcher.py:8: SettingWithCopyWarning: \n",
      "A value is trying to be set on a copy of a slice from a DataFrame.\n",
      "Try using .loc[row_indexer,col_indexer] = value instead\n",
      "\n",
      "See the caveats in the documentation: https://pandas.pydata.org/pandas-docs/stable/user_guide/indexing.html#returning-a-view-versus-a-copy\n",
      "  \n",
      "/home/jupyterlab/conda/envs/python/lib/python3.6/site-packages/ipykernel_launcher.py:9: SettingWithCopyWarning: \n",
      "A value is trying to be set on a copy of a slice from a DataFrame.\n",
      "Try using .loc[row_indexer,col_indexer] = value instead\n",
      "\n",
      "See the caveats in the documentation: https://pandas.pydata.org/pandas-docs/stable/user_guide/indexing.html#returning-a-view-versus-a-copy\n",
      "  if __name__ == '__main__':\n"
     ]
    },
    {
     "data": {
      "text/html": [
       "<div>\n",
       "<style scoped>\n",
       "    .dataframe tbody tr th:only-of-type {\n",
       "        vertical-align: middle;\n",
       "    }\n",
       "\n",
       "    .dataframe tbody tr th {\n",
       "        vertical-align: top;\n",
       "    }\n",
       "\n",
       "    .dataframe thead th {\n",
       "        text-align: right;\n",
       "    }\n",
       "</style>\n",
       "<table border=\"1\" class=\"dataframe\">\n",
       "  <thead>\n",
       "    <tr style=\"text-align: right;\">\n",
       "      <th></th>\n",
       "      <th>weather</th>\n",
       "      <th>roadcond</th>\n",
       "      <th>lightcond</th>\n",
       "    </tr>\n",
       "  </thead>\n",
       "  <tbody>\n",
       "    <tr>\n",
       "      <th>0</th>\n",
       "      <td>4</td>\n",
       "      <td>8</td>\n",
       "      <td>5</td>\n",
       "    </tr>\n",
       "    <tr>\n",
       "      <th>1</th>\n",
       "      <td>6</td>\n",
       "      <td>8</td>\n",
       "      <td>2</td>\n",
       "    </tr>\n",
       "    <tr>\n",
       "      <th>2</th>\n",
       "      <td>4</td>\n",
       "      <td>0</td>\n",
       "      <td>5</td>\n",
       "    </tr>\n",
       "    <tr>\n",
       "      <th>3</th>\n",
       "      <td>1</td>\n",
       "      <td>0</td>\n",
       "      <td>5</td>\n",
       "    </tr>\n",
       "    <tr>\n",
       "      <th>4</th>\n",
       "      <td>6</td>\n",
       "      <td>8</td>\n",
       "      <td>5</td>\n",
       "    </tr>\n",
       "  </tbody>\n",
       "</table>\n",
       "</div>"
      ],
      "text/plain": [
       "   weather  roadcond  lightcond\n",
       "0        4         8          5\n",
       "1        6         8          2\n",
       "2        4         0          5\n",
       "3        1         0          5\n",
       "4        6         8          5"
      ]
     },
     "execution_count": 28,
     "metadata": {},
     "output_type": "execute_result"
    }
   ],
   "source": [
    "#Use label encoding technique to convert categorical variables to binary variables \n",
    "\n",
    "from sklearn.preprocessing import LabelEncoder\n",
    "\n",
    "features = model[['weather', 'roadcond', 'lightcond']]\n",
    "\n",
    "for feature in ['weather', 'roadcond', 'lightcond']:\n",
    "    features[feature] = features[feature].astype('|S') \n",
    "    features[feature] = LabelEncoder().fit_transform(features[feature])\n",
    "\n",
    "features.head()"
   ]
  },
  {
   "cell_type": "code",
   "execution_count": 29,
   "metadata": {},
   "outputs": [],
   "source": [
    "#feature selection\n",
    "X = features\n",
    "y = model['severitycode'].values"
   ]
  },
  {
   "cell_type": "code",
   "execution_count": 30,
   "metadata": {},
   "outputs": [
    {
     "name": "stdout",
     "output_type": "stream",
     "text": [
      "Train set: (131267, 3) (131267,)\n",
      "Test set: (56258, 3) (56258,)\n"
     ]
    }
   ],
   "source": [
    "#Train/Test\n",
    "\n",
    "from sklearn.model_selection import train_test_split\n",
    "X_train, X_test, y_train, y_test = train_test_split( X, y, test_size=0.3, random_state=4)\n",
    "print ('Train set:', X_train.shape,  y_train.shape)\n",
    "print ('Test set:', X_test.shape,  y_test.shape)"
   ]
  },
  {
   "cell_type": "code",
   "execution_count": 31,
   "metadata": {},
   "outputs": [
    {
     "name": "stderr",
     "output_type": "stream",
     "text": [
      "/home/jupyterlab/conda/envs/python/lib/python3.6/site-packages/sklearn/preprocessing/data.py:625: DataConversionWarning: Data with input dtype int64 were all converted to float64 by StandardScaler.\n",
      "  return self.partial_fit(X, y)\n",
      "/home/jupyterlab/conda/envs/python/lib/python3.6/site-packages/ipykernel_launcher.py:5: DataConversionWarning: Data with input dtype int64 were all converted to float64 by StandardScaler.\n",
      "  \"\"\"\n"
     ]
    },
    {
     "data": {
      "text/plain": [
       "array([[ 0.33715894,  1.48648276,  0.36200962],\n",
       "       [ 1.04638501,  1.48648276, -1.4013662 ],\n",
       "       [ 0.33715894, -0.70681843,  0.36200962],\n",
       "       [-0.72668016, -0.70681843,  0.36200962],\n",
       "       [ 1.04638501,  1.48648276,  0.36200962]])"
      ]
     },
     "execution_count": 31,
     "metadata": {},
     "output_type": "execute_result"
    }
   ],
   "source": [
    "#Normalize data\n",
    "\n",
    "from sklearn import preprocessing\n",
    "\n",
    "X= preprocessing.StandardScaler().fit(X).transform(X)\n",
    "X[0:5]"
   ]
  },
  {
   "cell_type": "code",
   "execution_count": 32,
   "metadata": {},
   "outputs": [
    {
     "data": {
      "text/plain": [
       "LogisticRegression(C=0.01, class_weight=None, dual=False, fit_intercept=True,\n",
       "          intercept_scaling=1, max_iter=100, multi_class='warn',\n",
       "          n_jobs=None, penalty='l2', random_state=None, solver='liblinear',\n",
       "          tol=0.0001, verbose=0, warm_start=False)"
      ]
     },
     "execution_count": 32,
     "metadata": {},
     "output_type": "execute_result"
    }
   ],
   "source": [
    "#Logistic Regression\n",
    "\n",
    "from sklearn.linear_model import LogisticRegression\n",
    "\n",
    "model_lr = LogisticRegression(C=0.01, solver='liblinear')\n",
    "model_lr.fit(X_train, y_train)\n",
    "model_lr"
   ]
  },
  {
   "cell_type": "code",
   "execution_count": 33,
   "metadata": {},
   "outputs": [
    {
     "data": {
      "text/plain": [
       "KNeighborsClassifier(algorithm='auto', leaf_size=30, metric='minkowski',\n",
       "           metric_params=None, n_jobs=None, n_neighbors=2, p=2,\n",
       "           weights='uniform')"
      ]
     },
     "execution_count": 33,
     "metadata": {},
     "output_type": "execute_result"
    }
   ],
   "source": [
    "#KNN\n",
    "\n",
    "from sklearn.neighbors import KNeighborsClassifier\n",
    "\n",
    "#Train model and predict\n",
    "model_knn = KNeighborsClassifier(n_neighbors = 2).fit(X_train, y_train)\n",
    "model_knn"
   ]
  },
  {
   "cell_type": "code",
   "execution_count": 34,
   "metadata": {},
   "outputs": [
    {
     "data": {
      "text/plain": [
       "DecisionTreeClassifier(class_weight=None, criterion='entropy', max_depth=4,\n",
       "            max_features=None, max_leaf_nodes=None,\n",
       "            min_impurity_decrease=0.0, min_impurity_split=None,\n",
       "            min_samples_leaf=1, min_samples_split=2,\n",
       "            min_weight_fraction_leaf=0.0, presort=False, random_state=None,\n",
       "            splitter='best')"
      ]
     },
     "execution_count": 34,
     "metadata": {},
     "output_type": "execute_result"
    }
   ],
   "source": [
    "#Decision Tree\n",
    "\n",
    "from sklearn.tree import DecisionTreeClassifier\n",
    "\n",
    "model_tree = DecisionTreeClassifier(criterion=\"entropy\", max_depth = 4)\n",
    "model_tree.fit(X_train, y_train)\n",
    "model_tree"
   ]
  },
  {
   "cell_type": "markdown",
   "metadata": {},
   "source": [
    "### 4.3 Model Evaluation"
   ]
  },
  {
   "cell_type": "code",
   "execution_count": 35,
   "metadata": {},
   "outputs": [],
   "source": [
    "from sklearn import metrics\n",
    "from sklearn.metrics import jaccard_similarity_score\n",
    "from sklearn.metrics import f1_score\n",
    "from sklearn.metrics import precision_score"
   ]
  },
  {
   "cell_type": "markdown",
   "metadata": {},
   "source": [
    "### Logistic regression"
   ]
  },
  {
   "cell_type": "code",
   "execution_count": 36,
   "metadata": {},
   "outputs": [
    {
     "name": "stdout",
     "output_type": "stream",
     "text": [
      "Train set Logistic regression Accuracy:  0.6961307868695102\n",
      "Test set Logistic regression Accuracy:  0.6979096306303103\n"
     ]
    }
   ],
   "source": [
    "yhat_lr = model_lr.predict(X_test)\n",
    "yhat_proba = model_lr.predict_proba(X_test)\n",
    "print(\"Train set Logistic regression Accuracy: \", metrics.accuracy_score(y_train, model_lr.predict(X_train)))\n",
    "print(\"Test set Logistic regression Accuracy: \", metrics.accuracy_score(y_test, yhat_lr))"
   ]
  },
  {
   "cell_type": "code",
   "execution_count": 37,
   "metadata": {},
   "outputs": [
    {
     "name": "stderr",
     "output_type": "stream",
     "text": [
      "/home/jupyterlab/conda/envs/python/lib/python3.6/site-packages/sklearn/metrics/classification.py:1143: UndefinedMetricWarning: F-score is ill-defined and being set to 0.0 in labels with no predicted samples.\n",
      "  'precision', 'predicted', average, warn_for)\n",
      "/home/jupyterlab/conda/envs/python/lib/python3.6/site-packages/sklearn/metrics/classification.py:1143: UndefinedMetricWarning: Precision is ill-defined and being set to 0.0 in labels with no predicted samples.\n",
      "  'precision', 'predicted', average, warn_for)\n"
     ]
    }
   ],
   "source": [
    "#Evaluation\n",
    "jaccard = jaccard_similarity_score(y_test, yhat_lr)\n",
    "f1_score_lr = f1_score(y_test, yhat_lr, average='weighted')\n",
    "precision_lr = precision_score(y_test, yhat_lr, average='weighted')\n",
    "lr_report = ['Logistic Regression', round(jaccard,4), round(f1_score_lr,4), round(precision_lr,4)]"
   ]
  },
  {
   "cell_type": "markdown",
   "metadata": {},
   "source": [
    "### KNN"
   ]
  },
  {
   "cell_type": "code",
   "execution_count": 38,
   "metadata": {},
   "outputs": [
    {
     "name": "stdout",
     "output_type": "stream",
     "text": [
      "Train set KNN Accuracy:  0.6657728141878766\n",
      "Test set KNN Accuracy:  0.6673006505741406\n"
     ]
    }
   ],
   "source": [
    "yhat_knn = model_knn.predict(X_test)\n",
    "print(\"Train set KNN Accuracy: \", metrics.accuracy_score(y_train, model_knn.predict(X_train)))\n",
    "print(\"Test set KNN Accuracy: \", metrics.accuracy_score(y_test, yhat_knn))"
   ]
  },
  {
   "cell_type": "code",
   "execution_count": 40,
   "metadata": {},
   "outputs": [],
   "source": [
    "#Evaluation\n",
    "jaccard = jaccard_similarity_score(y_test, yhat_knn)\n",
    "f1_score_knn = f1_score(y_test, yhat_knn, average='weighted')\n",
    "precision_knn = precision_score(y_test, yhat_knn, average='weighted')\n",
    "knn_report = ['KNN', round(jaccard,4), round(f1_score_knn,4), round(precision_knn,4)]"
   ]
  },
  {
   "cell_type": "markdown",
   "metadata": {},
   "source": [
    "### Decision tree "
   ]
  },
  {
   "cell_type": "code",
   "execution_count": 45,
   "metadata": {},
   "outputs": [
    {
     "name": "stdout",
     "output_type": "stream",
     "text": [
      "Train set Decision Tree Accuracy:  0.6961307868695102\n",
      "Test set Decision Tree Accuracy:  0.6979096306303103\n"
     ]
    }
   ],
   "source": [
    "yhat_tree = model_tree.predict(X_test)\n",
    "print(\"Train set Decision Tree Accuracy: \", metrics.accuracy_score(y_train, model_tree.predict(X_train)))\n",
    "print(\"Test set Decision Tree Accuracy: \", metrics.accuracy_score(y_test, yhat_tree))"
   ]
  },
  {
   "cell_type": "code",
   "execution_count": 42,
   "metadata": {},
   "outputs": [
    {
     "name": "stderr",
     "output_type": "stream",
     "text": [
      "/home/jupyterlab/conda/envs/python/lib/python3.6/site-packages/sklearn/metrics/classification.py:1143: UndefinedMetricWarning: F-score is ill-defined and being set to 0.0 in labels with no predicted samples.\n",
      "  'precision', 'predicted', average, warn_for)\n",
      "/home/jupyterlab/conda/envs/python/lib/python3.6/site-packages/sklearn/metrics/classification.py:1143: UndefinedMetricWarning: Precision is ill-defined and being set to 0.0 in labels with no predicted samples.\n",
      "  'precision', 'predicted', average, warn_for)\n"
     ]
    }
   ],
   "source": [
    "#Evaluation\n",
    "jaccard = jaccard_similarity_score(y_test, yhat_tree)\n",
    "f1_score_tree = f1_score(y_test, yhat_tree, average='weighted')\n",
    "precision_tree = precision_score(y_test, yhat_tree, average='weighted')\n",
    "tree_report = ['Decision Tree', round(jaccard,4), round(f1_score_tree,4), round(precision_tree,4)]"
   ]
  },
  {
   "cell_type": "code",
   "execution_count": 43,
   "metadata": {},
   "outputs": [
    {
     "data": {
      "text/html": [
       "<div>\n",
       "<style scoped>\n",
       "    .dataframe tbody tr th:only-of-type {\n",
       "        vertical-align: middle;\n",
       "    }\n",
       "\n",
       "    .dataframe tbody tr th {\n",
       "        vertical-align: top;\n",
       "    }\n",
       "\n",
       "    .dataframe thead th {\n",
       "        text-align: right;\n",
       "    }\n",
       "</style>\n",
       "<table border=\"1\" class=\"dataframe\">\n",
       "  <thead>\n",
       "    <tr style=\"text-align: right;\">\n",
       "      <th></th>\n",
       "      <th>Algorithm</th>\n",
       "      <th>Jaccard</th>\n",
       "      <th>F1-score</th>\n",
       "      <th>Precision</th>\n",
       "    </tr>\n",
       "  </thead>\n",
       "  <tbody>\n",
       "    <tr>\n",
       "      <th>0</th>\n",
       "      <td>Logistic Regression</td>\n",
       "      <td>0.6979</td>\n",
       "      <td>0.5737</td>\n",
       "      <td>0.4871</td>\n",
       "    </tr>\n",
       "    <tr>\n",
       "      <th>1</th>\n",
       "      <td>KNN</td>\n",
       "      <td>0.6673</td>\n",
       "      <td>0.6051</td>\n",
       "      <td>0.5958</td>\n",
       "    </tr>\n",
       "    <tr>\n",
       "      <th>2</th>\n",
       "      <td>Decision Tree</td>\n",
       "      <td>0.6979</td>\n",
       "      <td>0.5737</td>\n",
       "      <td>0.4871</td>\n",
       "    </tr>\n",
       "  </tbody>\n",
       "</table>\n",
       "</div>"
      ],
      "text/plain": [
       "             Algorithm Jaccard F1-score Precision\n",
       "0  Logistic Regression  0.6979   0.5737    0.4871\n",
       "1                  KNN  0.6673   0.6051    0.5958\n",
       "2        Decision Tree  0.6979   0.5737    0.4871"
      ]
     },
     "execution_count": 43,
     "metadata": {},
     "output_type": "execute_result"
    }
   ],
   "source": [
    "#Summary\n",
    "\n",
    "Summary = pd.DataFrame(data=np.array([lr_report,knn_report, tree_report]), \n",
    "                      columns=['Algorithm', 'Jaccard', 'F1-score', 'Precision'])\n",
    "Summary"
   ]
  }
 ],
 "metadata": {
  "kernelspec": {
   "display_name": "Python",
   "language": "python",
   "name": "conda-env-python-py"
  },
  "language_info": {
   "codemirror_mode": {
    "name": "ipython",
    "version": 3
   },
   "file_extension": ".py",
   "mimetype": "text/x-python",
   "name": "python",
   "nbconvert_exporter": "python",
   "pygments_lexer": "ipython3",
   "version": "3.6.11"
  }
 },
 "nbformat": 4,
 "nbformat_minor": 4
}
